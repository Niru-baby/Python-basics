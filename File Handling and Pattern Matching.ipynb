{
 "cells": [
  {
   "cell_type": "markdown",
   "id": "f8734a58",
   "metadata": {},
   "source": [
    "## String Handling\n",
    "## Pattern Matching with Regular Expressions\n",
    "Regular expression is very powerful way to match pattern and find text from a document. this can be used to validate data, web scraping and so much more\n",
    "\n",
    "Here is a regular expression cheat to understand various syntax and special sequences https://cheatography.com/mutanclan/cheat-sheets/python-regular-expression-regex/.\n",
    "Regex PlayGround - https://pythex.org/\n",
    "\n",
    "    1. findall\n",
    "    2. search\n",
    "    3. split\n",
    "    4. sub\n",
    "    5. finditer\n",
    "    6. meta character\n",
    "    7. special sequence\n",
    "    8. rawstring\n",
    "\n",
    "\n",
    "## Files IO\n",
    "\n",
    "we'll learn about Python file operations. More specifically, opening a file, reading from it, writing into it, closing it, and various file methods that you should be aware of.\n",
    "\n",
    "When we want to read from or write to a file, we need to open it first. When we are done, it needs to be closed so that the resources that are tied with the file are freed.\n",
    "\n",
    "Hence, in Python, a file operation takes place in the following order:\n",
    "\n",
    "1. Open a file\n",
    "2. Read or write (perform operation)\n",
    "3. Close the file\n",
    "\n",
    "#### File Modes\n",
    "    r\tOpens a file for reading. (default)\n",
    "    w\tOpens a file for writing. Creates a new file if it does not exist or truncates the file if it exists.\n",
    "    x\tOpens a file for exclusive creation. If the file already exists, the operation fails.\n",
    "    a\tOpens a file for appending at the end of the file. Creates a new file if it does not exist.\n",
    "    t\tOpens in text mode. (default)\n",
    "    b\tOpens in binary mode.\n",
    "    +\tOpens a file for updating (reading and writing)\n",
    "\n",
    "* Reading and Writing Files\n",
    "    ```python\n",
    "    f = open(\"test.txt\")\n",
    "    f = open(\"C:/Python38/README.txt\")\n",
    "    ```\n",
    "    \n",
    "    ```python\n",
    "    f = open(\"test.txt\")      # equivalent to 'r' or 'rt'\n",
    "    f = open(\"test.txt\",'w')  # write in text mode\n",
    "    f = open(\"img.bmp\",'r+b') # read and write in binary mode\n",
    "    ```\n",
    "* Closing a file\n",
    "    ```python\n",
    "    f = open(\"test.txt\", encoding = 'utf-8')\n",
    "    # perform file operations\n",
    "    f.close()\n",
    "    ```\n",
    "    \n",
    "    ```python\n",
    "    with open(\"test.txt\",'w',encoding = 'utf-8') as f:\n",
    "       f.write(\"my first file\\n\")\n",
    "       f.write(\"This file\\n\\n\")\n",
    "       f.write(\"contains three lines\\n\")\n",
    "    ```\n",
    "* Organizing Files with os module\n",
    "    1. Creating a file\n",
    "    2. Renaming a flie\n",
    "    3. Deleting a file\n",
    "\n",
    "    4. Creating a folder\n",
    "    5. Renaming a folder\n",
    "    6. Deleting a folder\n",
    "    7. Copy\n",
    "    8. Move"
   ]
  },
  {
   "cell_type": "code",
   "execution_count": 89,
   "id": "0e6b7949",
   "metadata": {},
   "outputs": [],
   "source": [
    "import re\n",
    "import os"
   ]
  },
  {
   "cell_type": "code",
   "execution_count": 72,
   "id": "d5fd8d67",
   "metadata": {},
   "outputs": [],
   "source": [
    "text = \"\"\"\n",
    "My name is naveen my email address is naveen.singh@outlook.in my contact number is 9540150666 and my post code is 110009\n",
    "I ate 5 mangos\n",
    "\"\"\""
   ]
  },
  {
   "cell_type": "code",
   "execution_count": 79,
   "id": "cde04b16",
   "metadata": {},
   "outputs": [
    {
     "data": {
      "text/plain": [
       "['naveen', 'naveen']"
      ]
     },
     "execution_count": 79,
     "metadata": {},
     "output_type": "execute_result"
    }
   ],
   "source": [
    "re.findall(r\"naveen\", text)"
   ]
  },
  {
   "cell_type": "code",
   "execution_count": 81,
   "id": "7574b5b2",
   "metadata": {},
   "outputs": [
    {
     "data": {
      "text/plain": [
       "False"
      ]
     },
     "execution_count": 81,
     "metadata": {},
     "output_type": "execute_result"
    }
   ],
   "source": [
    "bool(re.search(r\"naveen--\", text))"
   ]
  },
  {
   "cell_type": "code",
   "execution_count": 84,
   "id": "80c71781",
   "metadata": {},
   "outputs": [
    {
     "data": {
      "text/plain": [
       "['\\nMy name is ',\n",
       " ' my email address is ',\n",
       " '.singh@outlook.in my contact number is 9540150666 and my post code is 110009\\nI ate 5 mangos\\n']"
      ]
     },
     "execution_count": 84,
     "metadata": {},
     "output_type": "execute_result"
    }
   ],
   "source": [
    "re.split(r\"naveen\", text)"
   ]
  },
  {
   "cell_type": "code",
   "execution_count": 85,
   "id": "71be20d9",
   "metadata": {},
   "outputs": [
    {
     "data": {
      "text/plain": [
       "'\\nMy name is naveen my email address is naveen.singh@outlook.in my contact number is 9five401five0666 and my post code is 110009\\nI ate five mangos\\n'"
      ]
     },
     "execution_count": 85,
     "metadata": {},
     "output_type": "execute_result"
    }
   ],
   "source": [
    "re.sub(r\"5\", \"five\", text)"
   ]
  },
  {
   "cell_type": "code",
   "execution_count": 88,
   "id": "1ba3137f",
   "metadata": {},
   "outputs": [],
   "source": [
    "email_pattern = r\"[a-zA-Z0-9.-_]+@[a-zA-Z0-9.-_]+\\.[a-zA-Z0-9.-_]+\""
   ]
  },
  {
   "cell_type": "code",
   "execution_count": 87,
   "id": "96ccd3cf",
   "metadata": {},
   "outputs": [
    {
     "data": {
      "text/plain": [
       "True"
      ]
     },
     "execution_count": 87,
     "metadata": {},
     "output_type": "execute_result"
    }
   ],
   "source": [
    "bool(re.search(email_pattern, text))"
   ]
  },
  {
   "cell_type": "code",
   "execution_count": null,
   "id": "4d909170",
   "metadata": {},
   "outputs": [],
   "source": []
  },
  {
   "cell_type": "code",
   "execution_count": 90,
   "id": "db4bddef",
   "metadata": {},
   "outputs": [],
   "source": [
    "# File Management"
   ]
  },
  {
   "cell_type": "code",
   "execution_count": 92,
   "id": "70049574",
   "metadata": {},
   "outputs": [
    {
     "data": {
      "text/plain": [
       "['CLD_CONTINUED',\n",
       " 'CLD_DUMPED',\n",
       " 'CLD_EXITED',\n",
       " 'CLD_KILLED',\n",
       " 'CLD_STOPPED',\n",
       " 'CLD_TRAPPED',\n",
       " 'DirEntry',\n",
       " 'EX_CANTCREAT',\n",
       " 'EX_CONFIG',\n",
       " 'EX_DATAERR',\n",
       " 'EX_IOERR',\n",
       " 'EX_NOHOST',\n",
       " 'EX_NOINPUT',\n",
       " 'EX_NOPERM',\n",
       " 'EX_NOUSER',\n",
       " 'EX_OK',\n",
       " 'EX_OSERR',\n",
       " 'EX_OSFILE',\n",
       " 'EX_PROTOCOL',\n",
       " 'EX_SOFTWARE',\n",
       " 'EX_TEMPFAIL',\n",
       " 'EX_UNAVAILABLE',\n",
       " 'EX_USAGE',\n",
       " 'F_LOCK',\n",
       " 'F_OK',\n",
       " 'F_TEST',\n",
       " 'F_TLOCK',\n",
       " 'F_ULOCK',\n",
       " 'GenericAlias',\n",
       " 'Mapping',\n",
       " 'MutableMapping',\n",
       " 'NGROUPS_MAX',\n",
       " 'O_ACCMODE',\n",
       " 'O_APPEND',\n",
       " 'O_ASYNC',\n",
       " 'O_CLOEXEC',\n",
       " 'O_CREAT',\n",
       " 'O_DIRECTORY',\n",
       " 'O_DSYNC',\n",
       " 'O_EXCL',\n",
       " 'O_EXLOCK',\n",
       " 'O_NDELAY',\n",
       " 'O_NOCTTY',\n",
       " 'O_NOFOLLOW',\n",
       " 'O_NONBLOCK',\n",
       " 'O_RDONLY',\n",
       " 'O_RDWR',\n",
       " 'O_SHLOCK',\n",
       " 'O_SYNC',\n",
       " 'O_TRUNC',\n",
       " 'O_WRONLY',\n",
       " 'POSIX_SPAWN_CLOSE',\n",
       " 'POSIX_SPAWN_DUP2',\n",
       " 'POSIX_SPAWN_OPEN',\n",
       " 'PRIO_PGRP',\n",
       " 'PRIO_PROCESS',\n",
       " 'PRIO_USER',\n",
       " 'P_ALL',\n",
       " 'P_NOWAIT',\n",
       " 'P_NOWAITO',\n",
       " 'P_PGID',\n",
       " 'P_PID',\n",
       " 'P_WAIT',\n",
       " 'PathLike',\n",
       " 'RTLD_GLOBAL',\n",
       " 'RTLD_LAZY',\n",
       " 'RTLD_LOCAL',\n",
       " 'RTLD_NODELETE',\n",
       " 'RTLD_NOLOAD',\n",
       " 'RTLD_NOW',\n",
       " 'R_OK',\n",
       " 'SCHED_FIFO',\n",
       " 'SCHED_OTHER',\n",
       " 'SCHED_RR',\n",
       " 'SEEK_CUR',\n",
       " 'SEEK_DATA',\n",
       " 'SEEK_END',\n",
       " 'SEEK_HOLE',\n",
       " 'SEEK_SET',\n",
       " 'ST_NOSUID',\n",
       " 'ST_RDONLY',\n",
       " 'TMP_MAX',\n",
       " 'WCONTINUED',\n",
       " 'WCOREDUMP',\n",
       " 'WEXITED',\n",
       " 'WEXITSTATUS',\n",
       " 'WIFCONTINUED',\n",
       " 'WIFEXITED',\n",
       " 'WIFSIGNALED',\n",
       " 'WIFSTOPPED',\n",
       " 'WNOHANG',\n",
       " 'WNOWAIT',\n",
       " 'WSTOPPED',\n",
       " 'WSTOPSIG',\n",
       " 'WTERMSIG',\n",
       " 'WUNTRACED',\n",
       " 'W_OK',\n",
       " 'X_OK',\n",
       " '_Environ',\n",
       " '__all__',\n",
       " '__builtins__',\n",
       " '__cached__',\n",
       " '__doc__',\n",
       " '__file__',\n",
       " '__loader__',\n",
       " '__name__',\n",
       " '__package__',\n",
       " '__spec__',\n",
       " '_check_methods',\n",
       " '_execvpe',\n",
       " '_exists',\n",
       " '_exit',\n",
       " '_fspath',\n",
       " '_fwalk',\n",
       " '_get_exports_list',\n",
       " '_spawnvef',\n",
       " '_walk',\n",
       " '_wrap_close',\n",
       " 'abc',\n",
       " 'abort',\n",
       " 'access',\n",
       " 'altsep',\n",
       " 'chdir',\n",
       " 'chflags',\n",
       " 'chmod',\n",
       " 'chown',\n",
       " 'chroot',\n",
       " 'close',\n",
       " 'closerange',\n",
       " 'confstr',\n",
       " 'confstr_names',\n",
       " 'cpu_count',\n",
       " 'ctermid',\n",
       " 'curdir',\n",
       " 'defpath',\n",
       " 'device_encoding',\n",
       " 'devnull',\n",
       " 'dup',\n",
       " 'dup2',\n",
       " 'environ',\n",
       " 'environb',\n",
       " 'error',\n",
       " 'execl',\n",
       " 'execle',\n",
       " 'execlp',\n",
       " 'execlpe',\n",
       " 'execv',\n",
       " 'execve',\n",
       " 'execvp',\n",
       " 'execvpe',\n",
       " 'extsep',\n",
       " 'fchdir',\n",
       " 'fchmod',\n",
       " 'fchown',\n",
       " 'fdopen',\n",
       " 'fork',\n",
       " 'forkpty',\n",
       " 'fpathconf',\n",
       " 'fsdecode',\n",
       " 'fsencode',\n",
       " 'fspath',\n",
       " 'fstat',\n",
       " 'fstatvfs',\n",
       " 'fsync',\n",
       " 'ftruncate',\n",
       " 'fwalk',\n",
       " 'get_blocking',\n",
       " 'get_exec_path',\n",
       " 'get_inheritable',\n",
       " 'get_terminal_size',\n",
       " 'getcwd',\n",
       " 'getcwdb',\n",
       " 'getegid',\n",
       " 'getenv',\n",
       " 'getenvb',\n",
       " 'geteuid',\n",
       " 'getgid',\n",
       " 'getgrouplist',\n",
       " 'getgroups',\n",
       " 'getloadavg',\n",
       " 'getlogin',\n",
       " 'getpgid',\n",
       " 'getpgrp',\n",
       " 'getpid',\n",
       " 'getppid',\n",
       " 'getpriority',\n",
       " 'getsid',\n",
       " 'getuid',\n",
       " 'initgroups',\n",
       " 'isatty',\n",
       " 'kill',\n",
       " 'killpg',\n",
       " 'lchflags',\n",
       " 'lchmod',\n",
       " 'lchown',\n",
       " 'linesep',\n",
       " 'link',\n",
       " 'listdir',\n",
       " 'lockf',\n",
       " 'lseek',\n",
       " 'lstat',\n",
       " 'major',\n",
       " 'makedev',\n",
       " 'makedirs',\n",
       " 'minor',\n",
       " 'mkdir',\n",
       " 'mkfifo',\n",
       " 'mknod',\n",
       " 'name',\n",
       " 'nice',\n",
       " 'open',\n",
       " 'openpty',\n",
       " 'pardir',\n",
       " 'path',\n",
       " 'pathconf',\n",
       " 'pathconf_names',\n",
       " 'pathsep',\n",
       " 'pipe',\n",
       " 'popen',\n",
       " 'posix_spawn',\n",
       " 'posix_spawnp',\n",
       " 'pread',\n",
       " 'preadv',\n",
       " 'putenv',\n",
       " 'pwrite',\n",
       " 'pwritev',\n",
       " 'read',\n",
       " 'readlink',\n",
       " 'readv',\n",
       " 'register_at_fork',\n",
       " 'remove',\n",
       " 'removedirs',\n",
       " 'rename',\n",
       " 'renames',\n",
       " 'replace',\n",
       " 'rmdir',\n",
       " 'scandir',\n",
       " 'sched_get_priority_max',\n",
       " 'sched_get_priority_min',\n",
       " 'sched_yield',\n",
       " 'sendfile',\n",
       " 'sep',\n",
       " 'set_blocking',\n",
       " 'set_inheritable',\n",
       " 'setegid',\n",
       " 'seteuid',\n",
       " 'setgid',\n",
       " 'setgroups',\n",
       " 'setpgid',\n",
       " 'setpgrp',\n",
       " 'setpriority',\n",
       " 'setregid',\n",
       " 'setreuid',\n",
       " 'setsid',\n",
       " 'setuid',\n",
       " 'spawnl',\n",
       " 'spawnle',\n",
       " 'spawnlp',\n",
       " 'spawnlpe',\n",
       " 'spawnv',\n",
       " 'spawnve',\n",
       " 'spawnvp',\n",
       " 'spawnvpe',\n",
       " 'st',\n",
       " 'stat',\n",
       " 'stat_result',\n",
       " 'statvfs',\n",
       " 'statvfs_result',\n",
       " 'strerror',\n",
       " 'supports_bytes_environ',\n",
       " 'supports_dir_fd',\n",
       " 'supports_effective_ids',\n",
       " 'supports_fd',\n",
       " 'supports_follow_symlinks',\n",
       " 'symlink',\n",
       " 'sync',\n",
       " 'sys',\n",
       " 'sysconf',\n",
       " 'sysconf_names',\n",
       " 'system',\n",
       " 'tcgetpgrp',\n",
       " 'tcsetpgrp',\n",
       " 'terminal_size',\n",
       " 'times',\n",
       " 'times_result',\n",
       " 'truncate',\n",
       " 'ttyname',\n",
       " 'umask',\n",
       " 'uname',\n",
       " 'uname_result',\n",
       " 'unlink',\n",
       " 'unsetenv',\n",
       " 'urandom',\n",
       " 'utime',\n",
       " 'wait',\n",
       " 'wait3',\n",
       " 'wait4',\n",
       " 'waitpid',\n",
       " 'waitstatus_to_exitcode',\n",
       " 'walk',\n",
       " 'write',\n",
       " 'writev']"
      ]
     },
     "execution_count": 92,
     "metadata": {},
     "output_type": "execute_result"
    }
   ],
   "source": [
    "dir(os)"
   ]
  },
  {
   "cell_type": "code",
   "execution_count": 96,
   "id": "01d7ce0b",
   "metadata": {},
   "outputs": [
    {
     "data": {
      "text/plain": [
       "['.eclipse',\n",
       " '.config',\n",
       " 'Music',\n",
       " '.yarn',\n",
       " '.expo',\n",
       " '.docker',\n",
       " '.qt',\n",
       " '.node-gyp',\n",
       " '.anyconnect',\n",
       " 'Regular_Expression.ipynb',\n",
       " '.DS_Store',\n",
       " '.gnupg',\n",
       " '.yarnrc',\n",
       " '.CFUserTextEncoding',\n",
       " '.stCommitMsg',\n",
       " '.hgignore_global',\n",
       " '.bashrc',\n",
       " '.vnc',\n",
       " '.zshrc.pre-oh-my-zsh',\n",
       " '.zshrc',\n",
       " '.vcpkg',\n",
       " '.local',\n",
       " 'Projects',\n",
       " 'Pictures',\n",
       " '.zprofile',\n",
       " 'Postman',\n",
       " 'Variables and Data Types Notes.ipynb',\n",
       " 'AWSCLIV2.pkg',\n",
       " '.zsh_history',\n",
       " '.ipython',\n",
       " '.rvm',\n",
       " 'Desktop',\n",
       " 'Library',\n",
       " '.matplotlib',\n",
       " '.mkshrc',\n",
       " '.flipper',\n",
       " '.erlang.cookie',\n",
       " '.zcompdump-Naveen’s MacBook Air-5.8',\n",
       " 'vcpkg',\n",
       " '.near-credentials',\n",
       " '.cargo',\n",
       " '.android',\n",
       " '.cocoapods',\n",
       " '.gitignore_global',\n",
       " '.p10k.zsh',\n",
       " 'Sites',\n",
       " 'Videos',\n",
       " 'Public',\n",
       " '.near-config',\n",
       " '.cisco',\n",
       " '.ssh',\n",
       " 'Movies',\n",
       " 'Applications',\n",
       " '.profile',\n",
       " '.gradle',\n",
       " 'File Handling and Pattern Matching.ipynb',\n",
       " 'Loop & Function.ipynb',\n",
       " 'DataTypes in Detail.ipynb',\n",
       " '.Trash',\n",
       " '.react-native-cli',\n",
       " '.gitflow_export',\n",
       " '.ipynb_checkpoints',\n",
       " '.jupyter',\n",
       " '.npm',\n",
       " 'Documents',\n",
       " '.anydesk',\n",
       " '.pyenv',\n",
       " '.babel.json',\n",
       " '.vscode',\n",
       " '.bash_profile',\n",
       " '.gem',\n",
       " '.swiftpm',\n",
       " '.nx',\n",
       " '.oh-my-zsh',\n",
       " 'Downloads',\n",
       " '.python_history',\n",
       " '.cache',\n",
       " '.aws',\n",
       " '.gitconfig',\n",
       " '.mume',\n",
       " '.putty',\n",
       " '.bash_history',\n",
       " '.viminfo',\n",
       " '.zsh_sessions',\n",
       " '.zlogin',\n",
       " 'Whatsbulk_2_0_2',\n",
       " '.composer']"
      ]
     },
     "execution_count": 96,
     "metadata": {},
     "output_type": "execute_result"
    }
   ],
   "source": [
    "os.getcwd()\n",
    "os.listdir()"
   ]
  },
  {
   "cell_type": "code",
   "execution_count": 97,
   "id": "a4dfa7fb",
   "metadata": {},
   "outputs": [
    {
     "name": "stdout",
     "output_type": "stream",
     "text": [
      "Music\n",
      "Regular_Expression.ipynb\n",
      "Projects\n",
      "Pictures\n",
      "Postman\n",
      "Variables and Data Types Notes.ipynb\n",
      "AWSCLIV2.pkg\n",
      "Desktop\n",
      "Library\n",
      "vcpkg\n",
      "Sites\n",
      "Videos\n",
      "Public\n",
      "Movies\n",
      "Applications\n",
      "File Handling and Pattern Matching.ipynb\n",
      "Loop & Function.ipynb\n",
      "DataTypes in Detail.ipynb\n",
      "Documents\n",
      "Downloads\n",
      "Whatsbulk_2_0_2\n"
     ]
    }
   ],
   "source": [
    "for i in os.listdir():\n",
    "    if i.startswith(\".\") == False:\n",
    "        print(i)"
   ]
  },
  {
   "cell_type": "code",
   "execution_count": 98,
   "id": "72d01733",
   "metadata": {},
   "outputs": [],
   "source": [
    "os.mkdir(\"new_folder\")"
   ]
  },
  {
   "cell_type": "code",
   "execution_count": 6,
   "id": "81c625ec",
   "metadata": {},
   "outputs": [
    {
     "ename": "FileNotFoundError",
     "evalue": "[Errno 2] No such file or directory: 'new_folder/newfile.txt'",
     "output_type": "error",
     "traceback": [
      "\u001b[1;31m---------------------------------------------------------------------------\u001b[0m",
      "\u001b[1;31mFileNotFoundError\u001b[0m                         Traceback (most recent call last)",
      "Input \u001b[1;32mIn [6]\u001b[0m, in \u001b[0;36m<cell line: 1>\u001b[1;34m()\u001b[0m\n\u001b[1;32m----> 1\u001b[0m file \u001b[38;5;241m=\u001b[39m \u001b[38;5;28;43mopen\u001b[39;49m\u001b[43m(\u001b[49m\u001b[38;5;124;43m\"\u001b[39;49m\u001b[38;5;124;43mnew_folder/newfile.txt\u001b[39;49m\u001b[38;5;124;43m\"\u001b[39;49m\u001b[43m,\u001b[49m\u001b[43m \u001b[49m\u001b[38;5;124;43m\"\u001b[39;49m\u001b[38;5;124;43mw\u001b[39;49m\u001b[38;5;124;43m\"\u001b[39;49m\u001b[43m)\u001b[49m\n\u001b[0;32m      2\u001b[0m file\u001b[38;5;241m.\u001b[39mclose()\n",
      "\u001b[1;31mFileNotFoundError\u001b[0m: [Errno 2] No such file or directory: 'new_folder/newfile.txt'"
     ]
    }
   ],
   "source": [
    "file = open(\"new_folder/newfile.txt\", \"w\")\n",
    "file.close()"
   ]
  },
  {
   "cell_type": "code",
   "execution_count": 101,
   "id": "fcb209cb",
   "metadata": {},
   "outputs": [],
   "source": [
    "with open(\"new_folder/newfile2.txt\", \"w\") as fh:\n",
    "    fh.write(\"Hello world\")"
   ]
  },
  {
   "cell_type": "code",
   "execution_count": 102,
   "id": "974aa60e",
   "metadata": {},
   "outputs": [],
   "source": [
    "os.rename(\"new_folder/newfile2.txt\", \"new_folder/newfile3.txt\")"
   ]
  },
  {
   "cell_type": "code",
   "execution_count": 104,
   "id": "3cea7511",
   "metadata": {},
   "outputs": [],
   "source": [
    "os.remove(\"new_folder/newfile.txt\")"
   ]
  },
  {
   "cell_type": "code",
   "execution_count": 105,
   "id": "59107392",
   "metadata": {},
   "outputs": [],
   "source": [
    "os.rmdir(\"new_folder/\")"
   ]
  },
  {
   "cell_type": "code",
   "execution_count": null,
   "id": "ac4abe5d",
   "metadata": {},
   "outputs": [],
   "source": []
  },
  {
   "cell_type": "code",
   "execution_count": null,
   "id": "71e183cf",
   "metadata": {},
   "outputs": [],
   "source": []
  },
  {
   "cell_type": "markdown",
   "id": "1ae04143",
   "metadata": {},
   "source": [
    "***Q: create a file with your descriptive profile information (it can be dummy data) and write regular expression to extract data with pattern from that file ie: Name, phone number, email address or other patterns that you can match***"
   ]
  },
  {
   "cell_type": "code",
   "execution_count": 2,
   "id": "0c7f30bf",
   "metadata": {},
   "outputs": [],
   "source": [
    "import re\n",
    "import os"
   ]
  },
  {
   "cell_type": "code",
   "execution_count": 3,
   "id": "cbfd450b",
   "metadata": {},
   "outputs": [],
   "source": [
    "file = open(\"C:\\\\Users\\\\nirupama.sahoo\\\\python folder\\\\dummy.txt\",\"r\")\n",
    "\n",
    "x = file.read()"
   ]
  },
  {
   "cell_type": "code",
   "execution_count": 4,
   "id": "23011c36",
   "metadata": {},
   "outputs": [
    {
     "name": "stdout",
     "output_type": "stream",
     "text": [
      "My name is Nirupama Sahoo\n",
      "My father's name is Fakir Sahoo\n",
      "My mother's name is Namita Sahoo\n",
      "My sister's name is Anupama Sahoo\n",
      "My phone number is 7978599708\n",
      "My gmail id is nirupama.sahoo@ag-technologies.com\n"
     ]
    }
   ],
   "source": [
    "print(x)"
   ]
  },
  {
   "cell_type": "code",
   "execution_count": 47,
   "id": "877426f2",
   "metadata": {},
   "outputs": [
    {
     "name": "stdout",
     "output_type": "stream",
     "text": [
      "My name is Nirupama Sahoo\n",
      "\n"
     ]
    }
   ],
   "source": [
    "file = open(\"C:\\\\Users\\\\nirupama.sahoo\\\\python folder\\\\dummy.txt\",\"r\")\n",
    "print(file.readline())"
   ]
  },
  {
   "cell_type": "code",
   "execution_count": 48,
   "id": "8229de00",
   "metadata": {},
   "outputs": [
    {
     "data": {
      "text/plain": [
       "['name', 'name', 'name', 'name']"
      ]
     },
     "execution_count": 48,
     "metadata": {},
     "output_type": "execute_result"
    }
   ],
   "source": [
    "re.findall(r\"name\", x)"
   ]
  },
  {
   "cell_type": "code",
   "execution_count": 7,
   "id": "e15d3251",
   "metadata": {},
   "outputs": [
    {
     "data": {
      "text/plain": [
       "False"
      ]
     },
     "execution_count": 7,
     "metadata": {},
     "output_type": "execute_result"
    }
   ],
   "source": [
    "bool(re.search(r\"name--\", x))"
   ]
  },
  {
   "cell_type": "code",
   "execution_count": 8,
   "id": "d904b75f",
   "metadata": {},
   "outputs": [
    {
     "data": {
      "text/plain": [
       "['My name is ',\n",
       " \" Sahoo\\nMy father's name is Fakir Sahoo\\nMy mother's name is Namita Sahoo\\nMy sister's name is Anupama Sahoo\\nMy phone number is 7978599708\\nMy gmail id is nirupama.sahoo@ag-technologies.com\"]"
      ]
     },
     "execution_count": 8,
     "metadata": {},
     "output_type": "execute_result"
    }
   ],
   "source": [
    "re.split(r\"Nirupama\", x)"
   ]
  },
  {
   "cell_type": "code",
   "execution_count": 33,
   "id": "33316d76",
   "metadata": {},
   "outputs": [],
   "source": [
    "email_pattern = r\"[a-zA-Z0-9.-_]+\\.[a-zA-Z0-9.-_]+@[a-zA-Z0-9.-_]+-[a-zA-Z0-9.-_]+\\.[a-zA-Z0-9.-_]+\""
   ]
  },
  {
   "cell_type": "code",
   "execution_count": 34,
   "id": "ecb5222c",
   "metadata": {},
   "outputs": [
    {
     "data": {
      "text/plain": [
       "True"
      ]
     },
     "execution_count": 34,
     "metadata": {},
     "output_type": "execute_result"
    }
   ],
   "source": [
    "bool(re.search(email_pattern, x))"
   ]
  },
  {
   "cell_type": "markdown",
   "id": "f1f63cc6",
   "metadata": {},
   "source": [
    "***Q: Create a file manager function that will perform different actions like creating a file/folder renaming a file/folder etc***"
   ]
  },
  {
   "cell_type": "code",
   "execution_count": 42,
   "id": "06815989",
   "metadata": {},
   "outputs": [],
   "source": [
    "os.mkdir(\"C:\\\\new_folder\")"
   ]
  },
  {
   "cell_type": "code",
   "execution_count": 43,
   "id": "526a2f6c",
   "metadata": {},
   "outputs": [],
   "source": [
    "file = open(\"C:\\\\new_folder/niru.txt\", \"w\")\n",
    "file.close()"
   ]
  },
  {
   "cell_type": "code",
   "execution_count": 44,
   "id": "2bf2f461",
   "metadata": {},
   "outputs": [],
   "source": [
    "with open(\"C:\\\\new_folder/anu.txt\", \"w\") as fh:\n",
    "    fh.write(\"Hello world\")"
   ]
  },
  {
   "cell_type": "code",
   "execution_count": 45,
   "id": "4195670d",
   "metadata": {},
   "outputs": [],
   "source": [
    "os.rename(\"C:\\\\new_folder/anu.txt\", \"C:\\\\new_folder/asu.txt\")"
   ]
  }
 ],
 "metadata": {
  "kernelspec": {
   "display_name": "Python 3 (ipykernel)",
   "language": "python",
   "name": "python3"
  },
  "language_info": {
   "codemirror_mode": {
    "name": "ipython",
    "version": 3
   },
   "file_extension": ".py",
   "mimetype": "text/x-python",
   "name": "python",
   "nbconvert_exporter": "python",
   "pygments_lexer": "ipython3",
   "version": "3.10.5"
  }
 },
 "nbformat": 4,
 "nbformat_minor": 5
}
