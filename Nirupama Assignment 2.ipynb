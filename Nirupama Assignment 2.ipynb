{
 "cells": [
  {
   "cell_type": "markdown",
   "id": "cdf488a5",
   "metadata": {},
   "source": [
    "### Strings and Character Data in Python\n",
    "\n",
    "String are objects that contain sequences of character data. Processing character data is integral to programming. Python provides a rich set of operators, functions, and methods for working with strings. In this module, we'll discuss the below topics.\n",
    "\n",
    "1. Using operators with strings\n",
    "2. Accessing and extracting portions of strings\n",
    "3. Use built-in Python functions with characters and strings\n",
    "4. Use methods to manipulate and modify string data\n",
    "\n",
    "#### String Manipulation\n",
    "1. String Operators\n",
    "2. Built-In String Functions\n",
    "    * Case Conversion (upper, lower, title, capitalize)\n",
    "    * Find and Replace (find, index) \n",
    "    * dir and __doc__\n",
    "3. String Indexing & Slicing\n",
    "    * name[1]\n",
    "\n",
    "### Working with python list\n",
    "List is Python’s most versatile, useful data types. You’ll find list in virtually every Python program. we'll cover the important characteristics of lists and we’ll learn how to define them and how to manipulate them.\n",
    "\n",
    "1. Lists Overview\n",
    "2. Indexing and Slicing\n",
    "3. Nesting\n",
    "4. List Methods\n",
    "    * Inserting item to a given position\n",
    "    * Appending value to a list\n",
    "    * Removing elements from a list\n",
    "    * Extending a list and merging with other list\n",
    "    * Counting instances of an elements in a list\n",
    "    * index - Finding index of something in the list\n",
    "    * Sorting a list\n",
    "    * Reversing a list\n",
    "    \n",
    "### Working with dictionary in python\n",
    "We’ll cover the basic characteristics of Python dictionaries and learn how to access and manage dictionary data. O\n",
    "1. Dictionaries and lists share the following characteristics:\n",
    "    * Both are mutable.\n",
    "    * Both are dynamic. They can grow and shrink as needed.\n",
    "    * Both can be nested. A list can contain another list. A dictionary can contain another dictionary. A dictionary can also contain a list, and vice versa.\n",
    "\n",
    "4. Dictionary Methods\n",
    "    * Get all keys from a dictionary - keys\n",
    "    * Get all values from a dictionary - values\n",
    "    * To Access data from a dictionary for a key - get\n",
    "    * Update a dictionary - update\n",
    "    * Deleting data from the dictionary\n",
    "    * Deleting all the key values from a dictionary - clear\n",
    "    \n",
    "### Conditional Statements in Python (if/elif/else)\n",
    "We’ll learn how to work with conditional (“if”) statements in Python. if-statements help us implement complex decision making in your programs.\n",
    "\n",
    "1. \"if\", \"else\" and \"elif\" Clauses\n",
    "2. One-Line \"if\" Statements\n",
    "3. Conditional Expressions\n",
    "4. The \"pass\" Statement"
   ]
  },
  {
   "cell_type": "code",
   "execution_count": 72,
   "id": "1226db47",
   "metadata": {},
   "outputs": [],
   "source": [
    "name = \"Naveen\""
   ]
  },
  {
   "cell_type": "code",
   "execution_count": 86,
   "id": "d610f5fe",
   "metadata": {},
   "outputs": [],
   "source": [
    "list1 = [1,2,3]"
   ]
  },
  {
   "cell_type": "code",
   "execution_count": 88,
   "id": "ea96b4df",
   "metadata": {},
   "outputs": [
    {
     "data": {
      "text/plain": [
       "[1, 2, 3]"
      ]
     },
     "execution_count": 88,
     "metadata": {},
     "output_type": "execute_result"
    }
   ],
   "source": [
    "list1"
   ]
  },
  {
   "cell_type": "code",
   "execution_count": 89,
   "id": "d29364d6",
   "metadata": {},
   "outputs": [],
   "source": [
    "list1.append(4)"
   ]
  },
  {
   "cell_type": "code",
   "execution_count": 91,
   "id": "93b0d733",
   "metadata": {},
   "outputs": [],
   "source": [
    "list2 = [4,5,6]"
   ]
  },
  {
   "cell_type": "code",
   "execution_count": 92,
   "id": "0395f205",
   "metadata": {},
   "outputs": [],
   "source": [
    "list1.extend(list2)"
   ]
  },
  {
   "cell_type": "code",
   "execution_count": 93,
   "id": "fa9d3f3e",
   "metadata": {},
   "outputs": [
    {
     "data": {
      "text/plain": [
       "[1, 2, 3, 4, 4, 5, 6]"
      ]
     },
     "execution_count": 93,
     "metadata": {},
     "output_type": "execute_result"
    }
   ],
   "source": [
    "list1"
   ]
  },
  {
   "cell_type": "code",
   "execution_count": 94,
   "id": "7a52d021",
   "metadata": {},
   "outputs": [],
   "source": [
    "dict_1 = {\"name\": \"Naveen\", \"city\": \"Delhi\"}"
   ]
  },
  {
   "cell_type": "code",
   "execution_count": 95,
   "id": "7e650f17",
   "metadata": {},
   "outputs": [
    {
     "data": {
      "text/plain": [
       "dict"
      ]
     },
     "execution_count": 95,
     "metadata": {},
     "output_type": "execute_result"
    }
   ],
   "source": [
    "type(dict_1)"
   ]
  },
  {
   "cell_type": "code",
   "execution_count": 96,
   "id": "7c0b7bf9",
   "metadata": {},
   "outputs": [
    {
     "data": {
      "text/plain": [
       "['__class__',\n",
       " '__class_getitem__',\n",
       " '__contains__',\n",
       " '__delattr__',\n",
       " '__delitem__',\n",
       " '__dir__',\n",
       " '__doc__',\n",
       " '__eq__',\n",
       " '__format__',\n",
       " '__ge__',\n",
       " '__getattribute__',\n",
       " '__getitem__',\n",
       " '__gt__',\n",
       " '__hash__',\n",
       " '__init__',\n",
       " '__init_subclass__',\n",
       " '__ior__',\n",
       " '__iter__',\n",
       " '__le__',\n",
       " '__len__',\n",
       " '__lt__',\n",
       " '__ne__',\n",
       " '__new__',\n",
       " '__or__',\n",
       " '__reduce__',\n",
       " '__reduce_ex__',\n",
       " '__repr__',\n",
       " '__reversed__',\n",
       " '__ror__',\n",
       " '__setattr__',\n",
       " '__setitem__',\n",
       " '__sizeof__',\n",
       " '__str__',\n",
       " '__subclasshook__',\n",
       " 'clear',\n",
       " 'copy',\n",
       " 'fromkeys',\n",
       " 'get',\n",
       " 'items',\n",
       " 'keys',\n",
       " 'pop',\n",
       " 'popitem',\n",
       " 'setdefault',\n",
       " 'update',\n",
       " 'values']"
      ]
     },
     "execution_count": 96,
     "metadata": {},
     "output_type": "execute_result"
    }
   ],
   "source": [
    "dir(dict_1)"
   ]
  },
  {
   "cell_type": "code",
   "execution_count": 97,
   "id": "40a7c56d",
   "metadata": {},
   "outputs": [
    {
     "data": {
      "text/plain": [
       "'Naveen'"
      ]
     },
     "execution_count": 97,
     "metadata": {},
     "output_type": "execute_result"
    }
   ],
   "source": [
    "dict_1.get(\"name\")"
   ]
  },
  {
   "cell_type": "code",
   "execution_count": 98,
   "id": "1c6a3dcf",
   "metadata": {},
   "outputs": [
    {
     "name": "stdout",
     "output_type": "stream",
     "text": [
      "{'name': 'Naveen', 'city': 'Delhi'}\n"
     ]
    }
   ],
   "source": [
    "print(dict_1)"
   ]
  },
  {
   "cell_type": "code",
   "execution_count": 99,
   "id": "88d524b1",
   "metadata": {},
   "outputs": [],
   "source": [
    "dict_1.update({\"city\": \"Noida\"})"
   ]
  },
  {
   "cell_type": "code",
   "execution_count": 100,
   "id": "4033930c",
   "metadata": {},
   "outputs": [
    {
     "name": "stdout",
     "output_type": "stream",
     "text": [
      "{'name': 'Naveen', 'city': 'Noida'}\n"
     ]
    }
   ],
   "source": [
    "print(dict_1)"
   ]
  },
  {
   "cell_type": "code",
   "execution_count": 101,
   "id": "23e9b629",
   "metadata": {},
   "outputs": [],
   "source": [
    "del dict_1['name']"
   ]
  },
  {
   "cell_type": "code",
   "execution_count": 102,
   "id": "02278e47",
   "metadata": {},
   "outputs": [
    {
     "name": "stdout",
     "output_type": "stream",
     "text": [
      "{'city': 'Noida'}\n"
     ]
    }
   ],
   "source": [
    "print(dict_1)"
   ]
  },
  {
   "cell_type": "code",
   "execution_count": null,
   "id": "e47ad77e",
   "metadata": {},
   "outputs": [],
   "source": [
    "todo_list = [\n",
    "    \"complete python study\", \n",
    "    \"complete python test\",\n",
    "    \"get the certificate\"\n",
    "]"
   ]
  },
  {
   "cell_type": "code",
   "execution_count": 106,
   "id": "b7e68570",
   "metadata": {},
   "outputs": [],
   "source": [
    "todo_list = [\n",
    "    {\"task\": \"complete python study\", \"deadline\": \"2022-10-10\"},\n",
    "    {\"task\":\"complete python test\", \"deadline\": \"2022-10-10\"},\n",
    "    {\"task\":\"get the certificate\", \"deadline\": \"2022-10-10\"}\n",
    "]"
   ]
  },
  {
   "cell_type": "code",
   "execution_count": 107,
   "id": "c171274a",
   "metadata": {},
   "outputs": [
    {
     "name": "stdout",
     "output_type": "stream",
     "text": [
      "[{'task': 'complete python study', 'deadline': '2022-10-10'}, {'task': 'complete python test', 'deadline': '2022-10-10'}, {'task': 'get the certificate', 'deadline': '2022-10-10'}]\n"
     ]
    }
   ],
   "source": [
    "print(todo_list)"
   ]
  },
  {
   "cell_type": "code",
   "execution_count": 108,
   "id": "6c0bcd2f",
   "metadata": {},
   "outputs": [],
   "source": [
    "user = {\n",
    "    \"name\": \"Naveen\",\n",
    "    \"courses\": [\"python\", \"javascript\"]\n",
    "}"
   ]
  },
  {
   "cell_type": "code",
   "execution_count": 109,
   "id": "9d8bc290",
   "metadata": {},
   "outputs": [
    {
     "name": "stdout",
     "output_type": "stream",
     "text": [
      "{'name': 'Naveen', 'courses': ['python', 'javascript']}\n"
     ]
    }
   ],
   "source": [
    "print(user)"
   ]
  },
  {
   "cell_type": "code",
   "execution_count": 110,
   "id": "69c27f8a",
   "metadata": {},
   "outputs": [
    {
     "data": {
      "text/plain": [
       "dict_keys(['name', 'courses'])"
      ]
     },
     "execution_count": 110,
     "metadata": {},
     "output_type": "execute_result"
    }
   ],
   "source": [
    "user.keys()"
   ]
  },
  {
   "cell_type": "code",
   "execution_count": 111,
   "id": "31c91831",
   "metadata": {},
   "outputs": [
    {
     "data": {
      "text/plain": [
       "dict_values(['Naveen', ['python', 'javascript']])"
      ]
     },
     "execution_count": 111,
     "metadata": {},
     "output_type": "execute_result"
    }
   ],
   "source": [
    "user.values()"
   ]
  },
  {
   "cell_type": "code",
   "execution_count": 112,
   "id": "ecb376ce",
   "metadata": {},
   "outputs": [],
   "source": [
    "def hello():\n",
    "    \"\"\"\n",
    "    this function will print hello world\n",
    "    \"\"\"\n",
    "    return \"hello world\"\n",
    "\n",
    "\n",
    "function_list = [hello]"
   ]
  },
  {
   "cell_type": "code",
   "execution_count": 113,
   "id": "0c0069b7",
   "metadata": {},
   "outputs": [
    {
     "data": {
      "text/plain": [
       "[<function __main__.hello()>]"
      ]
     },
     "execution_count": 113,
     "metadata": {},
     "output_type": "execute_result"
    }
   ],
   "source": [
    "function_list"
   ]
  },
  {
   "cell_type": "code",
   "execution_count": 115,
   "id": "afff4f6d",
   "metadata": {},
   "outputs": [],
   "source": [
    "func_dict = {\n",
    "    \"function_name\": \"hello world\",\n",
    "    \"function\": hello\n",
    "}"
   ]
  },
  {
   "cell_type": "code",
   "execution_count": null,
   "id": "95f45f6b",
   "metadata": {},
   "outputs": [],
   "source": []
  },
  {
   "cell_type": "code",
   "execution_count": 125,
   "id": "6f57093f",
   "metadata": {},
   "outputs": [],
   "source": [
    "num1 = 10\n",
    "num2 = 20"
   ]
  },
  {
   "cell_type": "code",
   "execution_count": 130,
   "id": "4aa180fa",
   "metadata": {},
   "outputs": [
    {
     "name": "stdout",
     "output_type": "stream",
     "text": [
      "Not same\n"
     ]
    }
   ],
   "source": [
    "if num1 == num2:\n",
    "    print(\"Same\")\n",
    "    print(\"something else\")\n",
    "else:\n",
    "    print(\"Not same\")"
   ]
  },
  {
   "cell_type": "code",
   "execution_count": 131,
   "id": "a259f3d3",
   "metadata": {},
   "outputs": [],
   "source": [
    "res = \"Same\" if num1 == num2 else \"Not same\""
   ]
  },
  {
   "cell_type": "code",
   "execution_count": 129,
   "id": "837cd484",
   "metadata": {},
   "outputs": [
    {
     "name": "stdout",
     "output_type": "stream",
     "text": [
      "Not same\n"
     ]
    }
   ],
   "source": [
    "print(res)"
   ]
  },
  {
   "cell_type": "code",
   "execution_count": 134,
   "id": "00918647",
   "metadata": {},
   "outputs": [],
   "source": [
    "result = num1 >= num2"
   ]
  },
  {
   "cell_type": "code",
   "execution_count": 139,
   "id": "5f73b3c5",
   "metadata": {},
   "outputs": [],
   "source": [
    "name = \"naveen\""
   ]
  },
  {
   "cell_type": "code",
   "execution_count": 141,
   "id": "4efe69b0",
   "metadata": {},
   "outputs": [
    {
     "data": {
      "text/plain": [
       "'Return a capitalized version of the string.\\n\\nMore specifically, make the first character have upper case and the rest lower\\ncase.'"
      ]
     },
     "execution_count": 141,
     "metadata": {},
     "output_type": "execute_result"
    }
   ],
   "source": []
  },
  {
   "cell_type": "code",
   "execution_count": null,
   "id": "70c2b3bd",
   "metadata": {},
   "outputs": [],
   "source": []
  },
  {
   "cell_type": "code",
   "execution_count": null,
   "id": "6c2233c4",
   "metadata": {},
   "outputs": [],
   "source": []
  },
  {
   "cell_type": "markdown",
   "id": "6d25fc4c",
   "metadata": {},
   "source": [
    "**Q: Create a variable name assign your name to that variable**\n",
    "</br>\n",
    "**Check what is the type of the variable and what are the public method available on that variable**\n",
    "</br>\n",
    "**Practice all the methods and write a brief summary on each of them in your words**"
   ]
  },
  {
   "cell_type": "code",
   "execution_count": null,
   "id": "2f76e00d",
   "metadata": {},
   "outputs": [],
   "source": [
    "name = \"naveen\""
   ]
  },
  {
   "cell_type": "code",
   "execution_count": 142,
   "id": "42279bda",
   "metadata": {},
   "outputs": [
    {
     "data": {
      "text/plain": [
       "['__add__',\n",
       " '__class__',\n",
       " '__contains__',\n",
       " '__delattr__',\n",
       " '__dir__',\n",
       " '__doc__',\n",
       " '__eq__',\n",
       " '__format__',\n",
       " '__ge__',\n",
       " '__getattribute__',\n",
       " '__getitem__',\n",
       " '__getnewargs__',\n",
       " '__gt__',\n",
       " '__hash__',\n",
       " '__init__',\n",
       " '__init_subclass__',\n",
       " '__iter__',\n",
       " '__le__',\n",
       " '__len__',\n",
       " '__lt__',\n",
       " '__mod__',\n",
       " '__mul__',\n",
       " '__ne__',\n",
       " '__new__',\n",
       " '__reduce__',\n",
       " '__reduce_ex__',\n",
       " '__repr__',\n",
       " '__rmod__',\n",
       " '__rmul__',\n",
       " '__setattr__',\n",
       " '__sizeof__',\n",
       " '__str__',\n",
       " '__subclasshook__',\n",
       " 'capitalize',\n",
       " 'casefold',\n",
       " 'center',\n",
       " 'count',\n",
       " 'encode',\n",
       " 'endswith',\n",
       " 'expandtabs',\n",
       " 'find',\n",
       " 'format',\n",
       " 'format_map',\n",
       " 'index',\n",
       " 'isalnum',\n",
       " 'isalpha',\n",
       " 'isascii',\n",
       " 'isdecimal',\n",
       " 'isdigit',\n",
       " 'isidentifier',\n",
       " 'islower',\n",
       " 'isnumeric',\n",
       " 'isprintable',\n",
       " 'isspace',\n",
       " 'istitle',\n",
       " 'isupper',\n",
       " 'join',\n",
       " 'ljust',\n",
       " 'lower',\n",
       " 'lstrip',\n",
       " 'maketrans',\n",
       " 'partition',\n",
       " 'removeprefix',\n",
       " 'removesuffix',\n",
       " 'replace',\n",
       " 'rfind',\n",
       " 'rindex',\n",
       " 'rjust',\n",
       " 'rpartition',\n",
       " 'rsplit',\n",
       " 'rstrip',\n",
       " 'split',\n",
       " 'splitlines',\n",
       " 'startswith',\n",
       " 'strip',\n",
       " 'swapcase',\n",
       " 'title',\n",
       " 'translate',\n",
       " 'upper',\n",
       " 'zfill']"
      ]
     },
     "execution_count": 142,
     "metadata": {},
     "output_type": "execute_result"
    }
   ],
   "source": [
    "dir(name)"
   ]
  },
  {
   "cell_type": "code",
   "execution_count": 143,
   "id": "d4c93fd9",
   "metadata": {},
   "outputs": [
    {
     "data": {
      "text/plain": [
       "'Naveen'"
      ]
     },
     "execution_count": 143,
     "metadata": {},
     "output_type": "execute_result"
    }
   ],
   "source": [
    "\"\"\"\n",
    "To make the 1st char of the string in Upper case\n",
    "\"\"\"\n",
    "name.capitalize()"
   ]
  },
  {
   "cell_type": "markdown",
   "id": "8055df42",
   "metadata": {},
   "source": [
    "**Q: Create a list \"todo_list\" and add some todo items in the list**\n",
    "</br>\n",
    "**Check what is the type of the variable and what are the public method available on that variable**\n",
    "</br>\n",
    "**Practice all the methods and write a brief summary on each of them in your words**"
   ]
  },
  {
   "cell_type": "code",
   "execution_count": 31,
   "id": "a23d9047",
   "metadata": {},
   "outputs": [],
   "source": [
    "todo_list1 = [\n",
    "    {\"task\" :\"complete the number system in python\" ,\"deadline\": \"2022-6-6\"},\n",
    "    {\"task\" :\"complete bitwise operator\" , \"deadline\": \"2022-6-6\"},\n",
    "    {\"task\" :\" complete python test 2\", \"deadline\": \"2022-6-6\"}\n",
    "]"
   ]
  },
  {
   "cell_type": "code",
   "execution_count": 32,
   "id": "83ce72a9",
   "metadata": {},
   "outputs": [
    {
     "name": "stdout",
     "output_type": "stream",
     "text": [
      "[{'task': 'complete the number system in python', 'deadline': '2022-6-6'}, {'task': 'complete bitwise operator', 'deadline': '2022-6-6'}, {'task': ' complete python test 2', 'deadline': '2022-6-6'}]\n"
     ]
    }
   ],
   "source": [
    "print(todo_list1)"
   ]
  },
  {
   "cell_type": "code",
   "execution_count": 85,
   "id": "6cc90153",
   "metadata": {},
   "outputs": [
    {
     "data": {
      "text/plain": [
       "[{'task': 'complete the number system in python', 'deadline': '2022-6-6'},\n",
       " {'task': 'complete bitwise operator', 'deadline': '2022-6-6'},\n",
       " {'task': ' complete python test 2', 'deadline': '2022-6-6'},\n",
       " 'grade hwk']"
      ]
     },
     "execution_count": 85,
     "metadata": {},
     "output_type": "execute_result"
    }
   ],
   "source": [
    "todo_list1 = [\n",
    "    {\"task\" :\"complete the number system in python\" ,\"deadline\": \"2022-6-6\"},\n",
    "    {\"task\" :\"complete bitwise operator\" , \"deadline\": \"2022-6-6\"},\n",
    "    {\"task\" :\" complete python test 2\", \"deadline\": \"2022-6-6\"}\n",
    "]\n",
    "todo_list1.append(\"grade hwk\")\n",
    " \n",
    "todo_list1"
   ]
  },
  {
   "cell_type": "code",
   "execution_count": 86,
   "id": "7ee04923",
   "metadata": {},
   "outputs": [
    {
     "name": "stdout",
     "output_type": "stream",
     "text": [
      "<class 'list'>\n"
     ]
    }
   ],
   "source": [
    "print(type(todo_list))"
   ]
  },
  {
   "cell_type": "code",
   "execution_count": 37,
   "id": "f7c01a19",
   "metadata": {},
   "outputs": [
    {
     "data": {
      "text/plain": [
       "['__add__',\n",
       " '__class__',\n",
       " '__class_getitem__',\n",
       " '__contains__',\n",
       " '__delattr__',\n",
       " '__delitem__',\n",
       " '__dir__',\n",
       " '__doc__',\n",
       " '__eq__',\n",
       " '__format__',\n",
       " '__ge__',\n",
       " '__getattribute__',\n",
       " '__getitem__',\n",
       " '__gt__',\n",
       " '__hash__',\n",
       " '__iadd__',\n",
       " '__imul__',\n",
       " '__init__',\n",
       " '__init_subclass__',\n",
       " '__iter__',\n",
       " '__le__',\n",
       " '__len__',\n",
       " '__lt__',\n",
       " '__mul__',\n",
       " '__ne__',\n",
       " '__new__',\n",
       " '__reduce__',\n",
       " '__reduce_ex__',\n",
       " '__repr__',\n",
       " '__reversed__',\n",
       " '__rmul__',\n",
       " '__setattr__',\n",
       " '__setitem__',\n",
       " '__sizeof__',\n",
       " '__str__',\n",
       " '__subclasshook__',\n",
       " 'append',\n",
       " 'clear',\n",
       " 'copy',\n",
       " 'count',\n",
       " 'extend',\n",
       " 'index',\n",
       " 'insert',\n",
       " 'pop',\n",
       " 'remove',\n",
       " 'reverse',\n",
       " 'sort']"
      ]
     },
     "execution_count": 37,
     "metadata": {},
     "output_type": "execute_result"
    }
   ],
   "source": [
    "dir(todo_list)"
   ]
  },
  {
   "cell_type": "code",
   "execution_count": 77,
   "id": "d98c7af6",
   "metadata": {},
   "outputs": [
    {
     "name": "stdout",
     "output_type": "stream",
     "text": [
      "[]\n"
     ]
    }
   ],
   "source": [
    "\"\"\"\n",
    "  To make the char of the string in clear\n",
    "    \n",
    "\"\"\"\n",
    "todo_list1.clear()\n",
    "print(todo_list1)"
   ]
  },
  {
   "cell_type": "code",
   "execution_count": 80,
   "id": "a79b4954",
   "metadata": {},
   "outputs": [
    {
     "name": "stdout",
     "output_type": "stream",
     "text": [
      "['Jaypur is the capital of Rajasthan', 'What is your stae']\n"
     ]
    }
   ],
   "source": [
    "todo_list=[\n",
    "    \"Jaypur is the capital of Rajasthan\",\n",
    "    \"What is your stae\"\n",
    "]\n",
    "\n",
    "\n",
    "\"\"\"\n",
    "  To make the char of the string in copy\n",
    "  \n",
    "\"\"\"\n",
    "todo_list.copy()\n",
    "print(todo_list)"
   ]
  },
  {
   "cell_type": "code",
   "execution_count": 81,
   "id": "cd6736a6",
   "metadata": {},
   "outputs": [
    {
     "name": "stdout",
     "output_type": "stream",
     "text": [
      "['Jaypur is the capital of Rajasthan', 'What is your stae']\n"
     ]
    }
   ],
   "source": [
    "todo_list=[\n",
    "    \"Jaypur is the capital of Rajasthan\",\n",
    "    \"What is your stae\"\n",
    "]\n",
    "\n",
    "\"\"\"\n",
    "  To make the char of the string in count\n",
    "  \n",
    "\"\"\"\n",
    "todo_list.count(todo_list)\n",
    "print(todo_list)"
   ]
  },
  {
   "cell_type": "code",
   "execution_count": 69,
   "id": "f54283e1",
   "metadata": {},
   "outputs": [],
   "source": [
    "todo_list2 = [\n",
    "    {\"test\" :\"My name is\"},\n",
    "    {\"test\" :\"My Father's name is\"}\n",
    "]"
   ]
  },
  {
   "cell_type": "code",
   "execution_count": 84,
   "id": "643a8089",
   "metadata": {},
   "outputs": [
    {
     "data": {
      "text/plain": [
       "['Jaypur is the capital of Rajasthan',\n",
       " 'What is your stae',\n",
       " 'Jaypur is the capital of Rajasthan',\n",
       " 'What is your stae',\n",
       " {'test': 'My name is'},\n",
       " {'test': \"My Father's name is\"},\n",
       " {'test': 'My name is'},\n",
       " {'test': \"My Father's name is\"}]"
      ]
     },
     "execution_count": 84,
     "metadata": {},
     "output_type": "execute_result"
    }
   ],
   "source": [
    "todo_list.extend(todo_list2)\n",
    "todo_list"
   ]
  },
  {
   "cell_type": "code",
   "execution_count": 147,
   "id": "baa167d3",
   "metadata": {},
   "outputs": [
    {
     "name": "stdout",
     "output_type": "stream",
     "text": [
      "0\n"
     ]
    }
   ],
   "source": [
    "todo_list=['state','country']\n",
    "\n",
    "\"\"\"\n",
    "  To make the char of the string in index\n",
    "  \n",
    "\"\"\"\n",
    "x = todo_list.index('state')\n",
    "\n",
    "print(x)\n"
   ]
  },
  {
   "cell_type": "code",
   "execution_count": 103,
   "id": "ac03e869",
   "metadata": {},
   "outputs": [
    {
     "data": {
      "text/plain": [
       "'What is your state'"
      ]
     },
     "execution_count": 103,
     "metadata": {},
     "output_type": "execute_result"
    }
   ],
   "source": [
    "todo_list=[\n",
    "    \"Jaypur is the capital of Rajasthan\",\n",
    "    \"What is your state\"\n",
    "]\n",
    "\n",
    "\"\"\"\n",
    "  To make the char of the string in pop\n",
    "  \n",
    "\"\"\"\n",
    "\n",
    "    \n",
    "todo_list.pop()\n"
   ]
  },
  {
   "cell_type": "code",
   "execution_count": 105,
   "id": "87086e68",
   "metadata": {},
   "outputs": [
    {
     "name": "stdout",
     "output_type": "stream",
     "text": [
      "['Jaypur is the capital of Rajasthan']\n"
     ]
    }
   ],
   "source": [
    "todo_list=[\n",
    "    \"Jaypur is the capital of Rajasthan\",\n",
    "    \"What is your state\"\n",
    "]\n",
    "\n",
    "\"\"\"\n",
    "  To make the char of the string in remove\n",
    "  \n",
    "\"\"\"\n",
    "\n",
    "    \n",
    "todo_list.remove(\"What is your state\")\n",
    "print(todo_list)\n"
   ]
  },
  {
   "cell_type": "code",
   "execution_count": 109,
   "id": "99027a1c",
   "metadata": {},
   "outputs": [
    {
     "name": "stdout",
     "output_type": "stream",
     "text": [
      "['What is your state', 'Jaypur is the capital of Rajasthan']\n"
     ]
    }
   ],
   "source": [
    "todo_list=[\n",
    "    \"Jaypur is the capital of Rajasthan\",\n",
    "    \"What is your state\"\n",
    "]\n",
    "\n",
    "\"\"\"\n",
    "  To make the char of the string in reverse\n",
    "  \n",
    "\"\"\"\n",
    "\n",
    "    \n",
    "todo_list.reverse()\n",
    "print(todo_list)\n"
   ]
  },
  {
   "cell_type": "code",
   "execution_count": 110,
   "id": "1d6e3160",
   "metadata": {},
   "outputs": [
    {
     "name": "stdout",
     "output_type": "stream",
     "text": [
      "['Jaypur is the capital of Rajasthan', 'What is your state']\n"
     ]
    }
   ],
   "source": [
    "todo_list=[\n",
    "    \"Jaypur is the capital of Rajasthan\",\n",
    "    \"What is your state\"\n",
    "]\n",
    "\n",
    "\"\"\"\n",
    "  To make the char of the string in sort\n",
    "  \n",
    "\"\"\"\n",
    "\n",
    "    \n",
    "todo_list.sort()\n",
    "print(todo_list)"
   ]
  },
  {
   "cell_type": "markdown",
   "id": "67fd8a5e",
   "metadata": {},
   "source": [
    "**Q: Create a dictionary \"user\" and add name, city key value pair in the dictionary**\n",
    "</br>\n",
    "**Check what is the type of the variable  user and what are the public method available on that variable**\n",
    "</br>\n",
    "**Practice all the methods and write a brief summary on each of them in your words**"
   ]
  },
  {
   "cell_type": "code",
   "execution_count": 46,
   "id": "5f9b02e8",
   "metadata": {},
   "outputs": [],
   "source": [
    "user = {\n",
    "    \"name\": \"Nirupama\",\n",
    "    \"city\": [\"Delhi\", \"Rajasthan\"]\n",
    "}"
   ]
  },
  {
   "cell_type": "code",
   "execution_count": 47,
   "id": "1503f52b",
   "metadata": {},
   "outputs": [
    {
     "name": "stdout",
     "output_type": "stream",
     "text": [
      "{'name': 'Nirupama', 'city': ['Delhi', 'Rajasthan']}\n"
     ]
    }
   ],
   "source": [
    "print(user)"
   ]
  },
  {
   "cell_type": "code",
   "execution_count": 48,
   "id": "3f63b393",
   "metadata": {},
   "outputs": [
    {
     "name": "stdout",
     "output_type": "stream",
     "text": [
      "<class 'dict'>\n"
     ]
    }
   ],
   "source": [
    "print(type(user))"
   ]
  },
  {
   "cell_type": "code",
   "execution_count": 49,
   "id": "fd2f131f",
   "metadata": {},
   "outputs": [
    {
     "data": {
      "text/plain": [
       "['__class__',\n",
       " '__class_getitem__',\n",
       " '__contains__',\n",
       " '__delattr__',\n",
       " '__delitem__',\n",
       " '__dir__',\n",
       " '__doc__',\n",
       " '__eq__',\n",
       " '__format__',\n",
       " '__ge__',\n",
       " '__getattribute__',\n",
       " '__getitem__',\n",
       " '__gt__',\n",
       " '__hash__',\n",
       " '__init__',\n",
       " '__init_subclass__',\n",
       " '__ior__',\n",
       " '__iter__',\n",
       " '__le__',\n",
       " '__len__',\n",
       " '__lt__',\n",
       " '__ne__',\n",
       " '__new__',\n",
       " '__or__',\n",
       " '__reduce__',\n",
       " '__reduce_ex__',\n",
       " '__repr__',\n",
       " '__reversed__',\n",
       " '__ror__',\n",
       " '__setattr__',\n",
       " '__setitem__',\n",
       " '__sizeof__',\n",
       " '__str__',\n",
       " '__subclasshook__',\n",
       " 'clear',\n",
       " 'copy',\n",
       " 'fromkeys',\n",
       " 'get',\n",
       " 'items',\n",
       " 'keys',\n",
       " 'pop',\n",
       " 'popitem',\n",
       " 'setdefault',\n",
       " 'update',\n",
       " 'values']"
      ]
     },
     "execution_count": 49,
     "metadata": {},
     "output_type": "execute_result"
    }
   ],
   "source": [
    "dir(user)"
   ]
  },
  {
   "cell_type": "code",
   "execution_count": 111,
   "id": "21c69ad3",
   "metadata": {},
   "outputs": [
    {
     "name": "stdout",
     "output_type": "stream",
     "text": [
      "{}\n"
     ]
    }
   ],
   "source": [
    "user = {\n",
    "    \"name\": \"Nirupama\",\n",
    "    \"city\": [\"Delhi\", \"Rajasthan\"]\n",
    "}\n",
    "\n",
    "\"\"\"\n",
    "  To make the char of the string in clear\n",
    "    \n",
    "\"\"\"\n",
    "user.clear()\n",
    "print(user)"
   ]
  },
  {
   "cell_type": "code",
   "execution_count": 112,
   "id": "8488f096",
   "metadata": {},
   "outputs": [
    {
     "data": {
      "text/plain": [
       "{'name': 'Nirupama', 'city': ['Delhi', 'Rajasthan']}"
      ]
     },
     "execution_count": 112,
     "metadata": {},
     "output_type": "execute_result"
    }
   ],
   "source": [
    "user = {\n",
    "    \"name\": \"Nirupama\",\n",
    "    \"city\": [\"Delhi\", \"Rajasthan\"]\n",
    "}\n",
    "\n",
    "\"\"\"\n",
    "  To make the char of the string in copy\n",
    "    \n",
    "\"\"\"\n",
    "user.copy()"
   ]
  },
  {
   "cell_type": "code",
   "execution_count": 125,
   "id": "59b783ca",
   "metadata": {},
   "outputs": [
    {
     "name": "stdout",
     "output_type": "stream",
     "text": [
      "{'N': 1, 'i': 1, 'r': 1, 'u': 1, 'p': 1, 'a': 1, 'm': 1}\n"
     ]
    }
   ],
   "source": [
    "x=(\"Nirupama\")\n",
    "y=1\n",
    "\"\"\"\n",
    "  To make the char of the string in fromkeys\n",
    "    \n",
    "\"\"\"\n",
    "dict = dict.fromkeys(x,y)\n",
    "print(dict)"
   ]
  },
  {
   "cell_type": "code",
   "execution_count": 121,
   "id": "f6588ab1",
   "metadata": {},
   "outputs": [
    {
     "name": "stdout",
     "output_type": "stream",
     "text": [
      "Nirupama\n"
     ]
    }
   ],
   "source": [
    "user = {\n",
    "    \"name\": \"Nirupama\",\n",
    "    \"city\": [\"Delhi\", \"Rajasthan\"]\n",
    "}\n",
    " \n",
    "\"\"\"\n",
    "  To make the char of the string in get\n",
    "    \n",
    "\"\"\"\n",
    "\n",
    "users=user.get(\"name\")\n",
    "print(users)"
   ]
  },
  {
   "cell_type": "code",
   "execution_count": 126,
   "id": "297ab983",
   "metadata": {},
   "outputs": [
    {
     "name": "stdout",
     "output_type": "stream",
     "text": [
      "dict_items([('name', 'Nirupama'), ('city', ['Delhi', 'Rajasthan'])])\n"
     ]
    }
   ],
   "source": [
    "user = {\n",
    "    \"name\": \"Nirupama\",\n",
    "    \"city\": [\"Delhi\", \"Rajasthan\"]\n",
    "}\n",
    "\n",
    "\"\"\"\n",
    "  To make the char of the string in clear\n",
    "    \n",
    "\"\"\"\n",
    "x = user.items()\n",
    "print(x)"
   ]
  },
  {
   "cell_type": "code",
   "execution_count": 127,
   "id": "8419cc77",
   "metadata": {},
   "outputs": [
    {
     "name": "stdout",
     "output_type": "stream",
     "text": [
      "dict_keys(['name', 'city'])\n"
     ]
    }
   ],
   "source": [
    "user = {\n",
    "    \"name\": \"Nirupama\",\n",
    "    \"city\": [\"Delhi\", \"Rajasthan\"]\n",
    "}\n",
    "\n",
    "\"\"\"\n",
    "  To make the char of the string in keys\n",
    "    \n",
    "\"\"\"\n",
    "x = user.keys()\n",
    "print(x)"
   ]
  },
  {
   "cell_type": "code",
   "execution_count": 131,
   "id": "e0021618",
   "metadata": {},
   "outputs": [
    {
     "name": "stdout",
     "output_type": "stream",
     "text": [
      "['name', 'age']\n"
     ]
    }
   ],
   "source": [
    "user = [\"name\",\"city\",\"age\"]\n",
    "\n",
    "\"\"\"\n",
    "  To make the char of the string in pop\n",
    "    \n",
    "\"\"\"\n",
    "user.pop(1)\n",
    "print(user)"
   ]
  },
  {
   "cell_type": "code",
   "execution_count": 135,
   "id": "d4acbeb9",
   "metadata": {},
   "outputs": [
    {
     "name": "stdout",
     "output_type": "stream",
     "text": [
      "{'name': 'niru', 'city': 'Odisha'}\n"
     ]
    }
   ],
   "source": [
    "user = {\n",
    "    \"name\":\"niru\",\n",
    "    \"city\":\"Odisha\",\n",
    "    \"age\":\"23\"\n",
    "}\n",
    "\n",
    "\"\"\"\n",
    "  To make the char of the string in popitem\n",
    "    \n",
    "\"\"\"\n",
    "user.popitem()\n",
    "print(user)"
   ]
  },
  {
   "cell_type": "code",
   "execution_count": 136,
   "id": "33886fb3",
   "metadata": {},
   "outputs": [
    {
     "name": "stdout",
     "output_type": "stream",
     "text": [
      "IT\n"
     ]
    }
   ],
   "source": [
    "user = {\n",
    "    \"name\":\"niru\",\n",
    "    \"city\":\"Odisha\",\n",
    "    \"age\":\"23\"\n",
    "}\n",
    "\n",
    "\"\"\"\n",
    "  To make the char of the string in setdefault\n",
    "    \n",
    "\"\"\"\n",
    "x = user.setdefault(\"branch\",\"IT\")\n",
    "print(x)"
   ]
  },
  {
   "cell_type": "code",
   "execution_count": 141,
   "id": "81b14ea7",
   "metadata": {},
   "outputs": [
    {
     "name": "stdout",
     "output_type": "stream",
     "text": [
      "{'name': 'niru', 'city': 'Odisha', 'age': '23', 'branch': 'IT'}\n"
     ]
    }
   ],
   "source": [
    "user = {\n",
    "    \"name\":\"niru\",\n",
    "    \"city\":\"Odisha\",\n",
    "    \"age\":\"23\"\n",
    "}\n",
    "\n",
    "\"\"\"\n",
    "  To make the char of the string in update\n",
    "    \n",
    "\"\"\"\n",
    "user.update({\"branch\":\"IT\"})\n",
    "print(user)"
   ]
  },
  {
   "cell_type": "code",
   "execution_count": 145,
   "id": "96258e31",
   "metadata": {},
   "outputs": [
    {
     "name": "stdout",
     "output_type": "stream",
     "text": [
      "dict_values(['niru', 'Odisha', '23'])\n"
     ]
    }
   ],
   "source": [
    "user = {\n",
    "    \"name\":\"niru\",\n",
    "    \"city\":\"Odisha\",\n",
    "    \"age\":\"23\"\n",
    "}\n",
    "\n",
    "\"\"\"\n",
    "  To make the char of the string in values\n",
    "    \n",
    "\"\"\"\n",
    "x = user.values()\n",
    "print(x)"
   ]
  },
  {
   "cell_type": "code",
   "execution_count": null,
   "id": "f23041b5",
   "metadata": {},
   "outputs": [],
   "source": []
  }
 ],
 "metadata": {
  "kernelspec": {
   "display_name": "Python 3 (ipykernel)",
   "language": "python",
   "name": "python3"
  },
  "language_info": {
   "codemirror_mode": {
    "name": "ipython",
    "version": 3
   },
   "file_extension": ".py",
   "mimetype": "text/x-python",
   "name": "python",
   "nbconvert_exporter": "python",
   "pygments_lexer": "ipython3",
   "version": "3.10.5"
  }
 },
 "nbformat": 4,
 "nbformat_minor": 5
}
